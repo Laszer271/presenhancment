{
  "nbformat": 4,
  "nbformat_minor": 0,
  "metadata": {
    "colab": {
      "provenance": []
    },
    "kernelspec": {
      "name": "python3",
      "display_name": "Python 3"
    },
    "language_info": {
      "name": "python"
    }
  },
  "cells": [
    {
      "cell_type": "code",
      "source": [
        "from google.colab import drive\n",
        "\n",
        "drive.mount('/content/gdrive')"
      ],
      "metadata": {
        "id": "eu4wrRwJcNaT"
      },
      "execution_count": null,
      "outputs": []
    },
    {
      "cell_type": "code",
      "source": [
        "!pip install SpeechRecognition pydub"
      ],
      "metadata": {
        "id": "ZDbgqVzVbme8"
      },
      "execution_count": null,
      "outputs": []
    },
    {
      "cell_type": "code",
      "source": [
        "import speech_recognition as sr\n",
        "\n",
        "r = sr.Recognizer()"
      ],
      "metadata": {
        "id": "JOuZKxYNbcES"
      },
      "execution_count": null,
      "outputs": []
    },
    {
      "cell_type": "code",
      "source": [
        "soundtrack = '/content/gdrive/MyDrive/testyxd.wav'\n",
        "\n",
        "with sr.AudioFile(soundtrack) as source:\n",
        "    audio_data = r.record(source)\n",
        "    text = r.recognize_google(audio_data)\n",
        "    print(text)"
      ],
      "metadata": {
        "colab": {
          "base_uri": "https://localhost:8080/"
        },
        "id": "ckbmFVY3bs7N",
        "outputId": "a5400503-a891-4f82-8782-6197d4af02d1"
      },
      "execution_count": 27,
      "outputs": [
        {
          "output_type": "stream",
          "name": "stdout",
          "text": [
            "hello let me introduce our startup idea that we have implemented during the hakkasan so first let's introduce ourselves so we are either graduates or students of words of University of Technology we come from a diverse backgrounds in data science machine learning web development and business and we are all members of Golem AI Association so the problem we have noticed during our studying and doing a contact with Academia and with research is really really hard and writing in latex is also really hard so how about we make it a whole lot easier as a solution is to implement a GitHub copilot but for latex documents so what does solution should do we have our research friends and we believe that we pinpointed the free most important features that this solution should have first one is real-time text autocomplete for both latex and natural language the second feature is suggestions for citations and assistance in creating bibliography and the third one is conducting a comprehensive review of the paper to give a constructive feedback to the user\n"
          ]
        }
      ]
    },
    {
      "cell_type": "code",
      "source": [
        "clip = '/content/gdrive/MyDrive/max.mp4'"
      ],
      "metadata": {
        "id": "rwqmSDow_fvR"
      },
      "execution_count": null,
      "outputs": []
    },
    {
      "cell_type": "code",
      "source": [
        "import moviepy.editor as mp\n",
        "\n",
        "audio = mp.AudioFileClip(soundtrack)\n",
        "video = mp.VideoFileClip(clip)\n",
        "final_video = video.set_audio(audio)"
      ],
      "metadata": {
        "id": "xyGMxIHNA1Kg"
      },
      "execution_count": 28,
      "outputs": []
    },
    {
      "cell_type": "code",
      "source": [
        "output = '/content/gdrive/MyDrive/output_video.mp4'\n",
        "final_video.write_videofile(output)"
      ],
      "metadata": {
        "id": "YStuNaFjBLm1"
      },
      "execution_count": null,
      "outputs": []
    }
  ]
}